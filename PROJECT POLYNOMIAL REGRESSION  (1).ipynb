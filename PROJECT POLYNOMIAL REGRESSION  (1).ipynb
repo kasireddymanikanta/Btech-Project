{
 "cells": [
  {
   "cell_type": "markdown",
   "id": "e43b2ccb",
   "metadata": {},
   "source": [
    "# Import Necessary Libraries"
   ]
  },
  {
   "cell_type": "code",
   "execution_count": 1,
   "id": "1b8584c4",
   "metadata": {},
   "outputs": [],
   "source": [
    "import numpy as np\n",
    "import pandas as pd\n",
    "import matplotlib.pyplot as plt"
   ]
  },
  {
   "cell_type": "markdown",
   "id": "efb1bf80",
   "metadata": {},
   "source": [
    "## 1. Data Preparation (Loading the data & Visualizing the data)"
   ]
  },
  {
   "cell_type": "code",
   "execution_count": 2,
   "id": "290c9b2b",
   "metadata": {},
   "outputs": [
    {
     "data": {
      "text/html": [
       "<div>\n",
       "<style scoped>\n",
       "    .dataframe tbody tr th:only-of-type {\n",
       "        vertical-align: middle;\n",
       "    }\n",
       "\n",
       "    .dataframe tbody tr th {\n",
       "        vertical-align: top;\n",
       "    }\n",
       "\n",
       "    .dataframe thead th {\n",
       "        text-align: right;\n",
       "    }\n",
       "</style>\n",
       "<table border=\"1\" class=\"dataframe\">\n",
       "  <thead>\n",
       "    <tr style=\"text-align: right;\">\n",
       "      <th></th>\n",
       "      <th>Speed</th>\n",
       "      <th>Feed</th>\n",
       "      <th>DepthOfCut</th>\n",
       "      <th>NoseRadius</th>\n",
       "      <th>Ravg</th>\n",
       "    </tr>\n",
       "  </thead>\n",
       "  <tbody>\n",
       "    <tr>\n",
       "      <th>0</th>\n",
       "      <td>88</td>\n",
       "      <td>0.05</td>\n",
       "      <td>0.2</td>\n",
       "      <td>0.0</td>\n",
       "      <td>4.63</td>\n",
       "    </tr>\n",
       "    <tr>\n",
       "      <th>1</th>\n",
       "      <td>88</td>\n",
       "      <td>0.07</td>\n",
       "      <td>0.2</td>\n",
       "      <td>0.0</td>\n",
       "      <td>3.68</td>\n",
       "    </tr>\n",
       "    <tr>\n",
       "      <th>2</th>\n",
       "      <td>88</td>\n",
       "      <td>0.10</td>\n",
       "      <td>0.2</td>\n",
       "      <td>0.0</td>\n",
       "      <td>2.75</td>\n",
       "    </tr>\n",
       "    <tr>\n",
       "      <th>3</th>\n",
       "      <td>150</td>\n",
       "      <td>0.05</td>\n",
       "      <td>0.2</td>\n",
       "      <td>0.0</td>\n",
       "      <td>4.86</td>\n",
       "    </tr>\n",
       "    <tr>\n",
       "      <th>4</th>\n",
       "      <td>150</td>\n",
       "      <td>0.07</td>\n",
       "      <td>0.2</td>\n",
       "      <td>0.0</td>\n",
       "      <td>4.38</td>\n",
       "    </tr>\n",
       "  </tbody>\n",
       "</table>\n",
       "</div>"
      ],
      "text/plain": [
       "   Speed  Feed  DepthOfCut  NoseRadius  Ravg\n",
       "0     88  0.05         0.2         0.0  4.63\n",
       "1     88  0.07         0.2         0.0  3.68\n",
       "2     88  0.10         0.2         0.0  2.75\n",
       "3    150  0.05         0.2         0.0  4.86\n",
       "4    150  0.07         0.2         0.0  4.38"
      ]
     },
     "execution_count": 2,
     "metadata": {},
     "output_type": "execute_result"
    }
   ],
   "source": [
    "d1 = pd.read_excel(\"Project_Data.xlsx\")\n",
    "d1.head()"
   ]
  },
  {
   "cell_type": "code",
   "execution_count": 3,
   "id": "3d0136b9",
   "metadata": {},
   "outputs": [
    {
     "data": {
      "text/html": [
       "<div>\n",
       "<style scoped>\n",
       "    .dataframe tbody tr th:only-of-type {\n",
       "        vertical-align: middle;\n",
       "    }\n",
       "\n",
       "    .dataframe tbody tr th {\n",
       "        vertical-align: top;\n",
       "    }\n",
       "\n",
       "    .dataframe thead th {\n",
       "        text-align: right;\n",
       "    }\n",
       "</style>\n",
       "<table border=\"1\" class=\"dataframe\">\n",
       "  <thead>\n",
       "    <tr style=\"text-align: right;\">\n",
       "      <th></th>\n",
       "      <th>Speed</th>\n",
       "      <th>Feed</th>\n",
       "      <th>DepthOfCut</th>\n",
       "      <th>NoseRadius</th>\n",
       "      <th>Ravg</th>\n",
       "    </tr>\n",
       "  </thead>\n",
       "  <tbody>\n",
       "    <tr>\n",
       "      <th>count</th>\n",
       "      <td>108.000000</td>\n",
       "      <td>108.000000</td>\n",
       "      <td>108.000000</td>\n",
       "      <td>108.000000</td>\n",
       "      <td>108.000000</td>\n",
       "    </tr>\n",
       "    <tr>\n",
       "      <th>mean</th>\n",
       "      <td>162.666667</td>\n",
       "      <td>0.070000</td>\n",
       "      <td>0.304167</td>\n",
       "      <td>0.266667</td>\n",
       "      <td>2.219722</td>\n",
       "    </tr>\n",
       "    <tr>\n",
       "      <th>std</th>\n",
       "      <td>67.051103</td>\n",
       "      <td>0.018796</td>\n",
       "      <td>0.075929</td>\n",
       "      <td>0.206438</td>\n",
       "      <td>1.374795</td>\n",
       "    </tr>\n",
       "    <tr>\n",
       "      <th>min</th>\n",
       "      <td>88.000000</td>\n",
       "      <td>0.050000</td>\n",
       "      <td>0.200000</td>\n",
       "      <td>0.000000</td>\n",
       "      <td>0.470000</td>\n",
       "    </tr>\n",
       "    <tr>\n",
       "      <th>25%</th>\n",
       "      <td>88.000000</td>\n",
       "      <td>0.057500</td>\n",
       "      <td>0.237500</td>\n",
       "      <td>0.000000</td>\n",
       "      <td>1.140000</td>\n",
       "    </tr>\n",
       "    <tr>\n",
       "      <th>50%</th>\n",
       "      <td>150.000000</td>\n",
       "      <td>0.065000</td>\n",
       "      <td>0.300000</td>\n",
       "      <td>0.300000</td>\n",
       "      <td>1.685000</td>\n",
       "    </tr>\n",
       "    <tr>\n",
       "      <th>75%</th>\n",
       "      <td>250.000000</td>\n",
       "      <td>0.077500</td>\n",
       "      <td>0.381250</td>\n",
       "      <td>0.500000</td>\n",
       "      <td>2.995000</td>\n",
       "    </tr>\n",
       "    <tr>\n",
       "      <th>max</th>\n",
       "      <td>250.000000</td>\n",
       "      <td>0.100000</td>\n",
       "      <td>0.400000</td>\n",
       "      <td>0.500000</td>\n",
       "      <td>5.610000</td>\n",
       "    </tr>\n",
       "  </tbody>\n",
       "</table>\n",
       "</div>"
      ],
      "text/plain": [
       "            Speed        Feed  DepthOfCut  NoseRadius        Ravg\n",
       "count  108.000000  108.000000  108.000000  108.000000  108.000000\n",
       "mean   162.666667    0.070000    0.304167    0.266667    2.219722\n",
       "std     67.051103    0.018796    0.075929    0.206438    1.374795\n",
       "min     88.000000    0.050000    0.200000    0.000000    0.470000\n",
       "25%     88.000000    0.057500    0.237500    0.000000    1.140000\n",
       "50%    150.000000    0.065000    0.300000    0.300000    1.685000\n",
       "75%    250.000000    0.077500    0.381250    0.500000    2.995000\n",
       "max    250.000000    0.100000    0.400000    0.500000    5.610000"
      ]
     },
     "execution_count": 3,
     "metadata": {},
     "output_type": "execute_result"
    }
   ],
   "source": [
    "d1.describe()"
   ]
  },
  {
   "cell_type": "markdown",
   "id": "ac5b0b56",
   "metadata": {},
   "source": [
    "### Feature Extraction"
   ]
  },
  {
   "cell_type": "code",
   "execution_count": 4,
   "id": "54045cdc",
   "metadata": {},
   "outputs": [
    {
     "data": {
      "text/html": [
       "<div>\n",
       "<style scoped>\n",
       "    .dataframe tbody tr th:only-of-type {\n",
       "        vertical-align: middle;\n",
       "    }\n",
       "\n",
       "    .dataframe tbody tr th {\n",
       "        vertical-align: top;\n",
       "    }\n",
       "\n",
       "    .dataframe thead th {\n",
       "        text-align: right;\n",
       "    }\n",
       "</style>\n",
       "<table border=\"1\" class=\"dataframe\">\n",
       "  <thead>\n",
       "    <tr style=\"text-align: right;\">\n",
       "      <th></th>\n",
       "      <th>Speed</th>\n",
       "      <th>Feed</th>\n",
       "      <th>DepthOfCut</th>\n",
       "      <th>NoseRadius</th>\n",
       "      <th>Ravg</th>\n",
       "    </tr>\n",
       "  </thead>\n",
       "  <tbody>\n",
       "    <tr>\n",
       "      <th>0</th>\n",
       "      <td>88</td>\n",
       "      <td>0.05</td>\n",
       "      <td>0.2</td>\n",
       "      <td>0.0</td>\n",
       "      <td>4.63</td>\n",
       "    </tr>\n",
       "    <tr>\n",
       "      <th>1</th>\n",
       "      <td>88</td>\n",
       "      <td>0.07</td>\n",
       "      <td>0.2</td>\n",
       "      <td>0.0</td>\n",
       "      <td>3.68</td>\n",
       "    </tr>\n",
       "    <tr>\n",
       "      <th>2</th>\n",
       "      <td>88</td>\n",
       "      <td>0.10</td>\n",
       "      <td>0.2</td>\n",
       "      <td>0.0</td>\n",
       "      <td>2.75</td>\n",
       "    </tr>\n",
       "    <tr>\n",
       "      <th>3</th>\n",
       "      <td>150</td>\n",
       "      <td>0.05</td>\n",
       "      <td>0.2</td>\n",
       "      <td>0.0</td>\n",
       "      <td>4.86</td>\n",
       "    </tr>\n",
       "    <tr>\n",
       "      <th>4</th>\n",
       "      <td>150</td>\n",
       "      <td>0.07</td>\n",
       "      <td>0.2</td>\n",
       "      <td>0.0</td>\n",
       "      <td>4.38</td>\n",
       "    </tr>\n",
       "  </tbody>\n",
       "</table>\n",
       "</div>"
      ],
      "text/plain": [
       "   Speed  Feed  DepthOfCut  NoseRadius  Ravg\n",
       "0     88  0.05         0.2         0.0  4.63\n",
       "1     88  0.07         0.2         0.0  3.68\n",
       "2     88  0.10         0.2         0.0  2.75\n",
       "3    150  0.05         0.2         0.0  4.86\n",
       "4    150  0.07         0.2         0.0  4.38"
      ]
     },
     "execution_count": 4,
     "metadata": {},
     "output_type": "execute_result"
    }
   ],
   "source": [
    "cdf = d1[['Speed','Feed','DepthOfCut','NoseRadius','Ravg']]\n",
    "cdf.head()"
   ]
  },
  {
   "cell_type": "markdown",
   "id": "ee7e0ae2",
   "metadata": {},
   "source": [
    "## Visualize the data and understand the trend between features & labels"
   ]
  },
  {
   "cell_type": "markdown",
   "id": "da8fef31",
   "metadata": {},
   "source": [
    "### Polynomial Regression between Speed and Ravg"
   ]
  },
  {
   "cell_type": "code",
   "execution_count": 5,
   "id": "f5c6358f",
   "metadata": {},
   "outputs": [
    {
     "name": "stdout",
     "output_type": "stream",
     "text": [
      "Training shape: (88, 5)\n",
      "Testing shape (20, 5)\n"
     ]
    }
   ],
   "source": [
    "msk = np.random.rand(len(cdf))<0.8\n",
    "train = cdf[msk]\n",
    "test = cdf[~msk]\n",
    "print (\"Training shape:\",train.shape)\n",
    "print (\"Testing shape\",test.shape)"
   ]
  },
  {
   "cell_type": "code",
   "execution_count": 6,
   "id": "1c3e0acc",
   "metadata": {},
   "outputs": [
    {
     "name": "stdout",
     "output_type": "stream",
     "text": [
      "Coefficients: [[ 0.00000000e+00 -4.34935609e-07 -6.47942737e-05  2.13237491e-07]]\n",
      "Intercept: [2.90515642]\n"
     ]
    }
   ],
   "source": [
    "from sklearn.preprocessing import PolynomialFeatures\n",
    "poly = PolynomialFeatures(degree = 3)\n",
    "inp1 = np.asanyarray(train[[\"Speed\"]])\n",
    "inp1poly = poly.fit_transform (inp1)\n",
    "out1 = np.asanyarray(train[[\"Ravg\"]])\n",
    "from sklearn.linear_model import LinearRegression\n",
    "reg = LinearRegression()\n",
    "reg.fit(inp1poly,out1)\n",
    "print (\"Coefficients:\", reg.coef_)\n",
    "print (\"Intercept:\", reg.intercept_)"
   ]
  },
  {
   "cell_type": "markdown",
   "id": "33a48230",
   "metadata": {},
   "source": [
    "## Polynomial Regression between Speed and Ravg"
   ]
  },
  {
   "cell_type": "code",
   "execution_count": 7,
   "id": "4822259c",
   "metadata": {
    "scrolled": true
   },
   "outputs": [
    {
     "data": {
      "image/png": "[encoded data removed]",
      "text/plain": [
       "<Figure size 432x288 with 1 Axes>"
      ]
     },
     "metadata": {
      "needs_background": "light"
     },
     "output_type": "display_data"
    }
   ],
   "source": [
    "inp1test = np.asanyarray(test[[\"Speed\"]])\n",
    "inp1testpoly = poly.fit_transform(inp1test)\n",
    "out1test = np.asanyarray(test[[\"Ravg\"]])\n",
    "out1pred = reg.predict(inp1testpoly)\n",
    "\n",
    "x = np.arange(0,len(test),1)\n",
    "plt.scatter(x,out1test, color = \"blue\")\n",
    "plt.scatter(x,out1pred,color = \"red\")\n",
    "plt.xlabel(\"Speed\")\n",
    "plt.ylabel(\"Ravg\")\n",
    "plt.show()"
   ]
  },
  {
   "cell_type": "code",
   "execution_count": 8,
   "id": "5ca346a7",
   "metadata": {},
   "outputs": [
    {
     "name": "stdout",
     "output_type": "stream",
     "text": [
      "MSE: 1.669240682758621\n",
      "R2 score -0.03955252922883745\n"
     ]
    }
   ],
   "source": [
    "from sklearn.metrics import mean_squared_error,r2_score\n",
    "print (\"MSE:\",mean_squared_error(out1test,out1pred))\n",
    "print (\"R2 score\",r2_score(out1test,out1pred))"
   ]
  },
  {
   "cell_type": "markdown",
   "id": "c66f7bde",
   "metadata": {},
   "source": [
    "### Polynomial Regression between Feed and Ravg"
   ]
  },
  {
   "cell_type": "code",
   "execution_count": 9,
   "id": "00a0b980",
   "metadata": {},
   "outputs": [
    {
     "name": "stdout",
     "output_type": "stream",
     "text": [
      "Training shape: (82, 5)\n",
      "Testing shape (26, 5)\n"
     ]
    }
   ],
   "source": [
    "msk1 = np.random.rand(len(cdf))<0.8\n",
    "train = cdf[msk1]\n",
    "test = cdf[~msk1]\n",
    "print (\"Training shape:\",train.shape)\n",
    "print (\"Testing shape\",test.shape)"
   ]
  },
  {
   "cell_type": "code",
   "execution_count": 10,
   "id": "20a347a1",
   "metadata": {},
   "outputs": [
    {
     "name": "stdout",
     "output_type": "stream",
     "text": [
      "Coefficients: [[     0.            841.26210245 -11489.63845107  50545.95881414]]\n",
      "Intercept: [-17.58683718]\n"
     ]
    }
   ],
   "source": [
    "from sklearn.preprocessing import PolynomialFeatures\n",
    "poly1 = PolynomialFeatures(degree = 3)\n",
    "inp2 = np.asanyarray(train[[\"Feed\"]])\n",
    "inp2poly = poly1.fit_transform (inp2)\n",
    "out2 = np.asanyarray(train[[\"Ravg\"]])\n",
    "from sklearn.linear_model import LinearRegression\n",
    "reg1 = LinearRegression()\n",
    "reg1.fit(inp2poly,out2)\n",
    "print (\"Coefficients:\", reg1.coef_)\n",
    "print (\"Intercept:\", reg1.intercept_)\n"
   ]
  },
  {
   "cell_type": "markdown",
   "id": "3a95df85",
   "metadata": {},
   "source": [
    "## Polynomial Regression between Feed and Ravg"
   ]
  },
  {
   "cell_type": "code",
   "execution_count": 11,
   "id": "9af2d2ec",
   "metadata": {},
   "outputs": [
    {
     "data": {
      "image/png": "[encoded data removed]",
      "text/plain": [
       "<Figure size 432x288 with 1 Axes>"
      ]
     },
     "metadata": {
      "needs_background": "light"
     },
     "output_type": "display_data"
    }
   ],
   "source": [
    "inp2test = np.asanyarray(test[[\"Feed\"]])\n",
    "inp2testpoly = poly1.fit_transform(inp2test)\n",
    "out2test = np.asanyarray(test[[\"Ravg\"]])\n",
    "out2pred = reg1.predict(inp2testpoly)\n",
    "\n",
    "x1 = np.arange(0,len(test),1)\n",
    "plt.scatter(x1,out2test, color = \"blue\")\n",
    "plt.scatter(x1,out2pred,color = \"red\")\n",
    "plt.xlabel(\"Feed\")\n",
    "plt.ylabel(\"Ravg\")\n",
    "plt.show()"
   ]
  },
  {
   "cell_type": "code",
   "execution_count": 12,
   "id": "d21bc252",
   "metadata": {},
   "outputs": [
    {
     "name": "stdout",
     "output_type": "stream",
     "text": [
      "MSE: 1.6739076135819966\n",
      "R2 score -0.05072340603197545\n"
     ]
    }
   ],
   "source": [
    "from sklearn.metrics import mean_squared_error,r2_score\n",
    "print (\"MSE:\",mean_squared_error(out2test,out2pred))\n",
    "print (\"R2 score\",r2_score(out2test,out2pred))"
   ]
  },
  {
   "cell_type": "markdown",
   "id": "544d4a74",
   "metadata": {},
   "source": [
    "### Polynomial Regression between Depth_Of_Cut and Ravg"
   ]
  },
  {
   "cell_type": "code",
   "execution_count": 13,
   "id": "58a8946c",
   "metadata": {},
   "outputs": [
    {
     "name": "stdout",
     "output_type": "stream",
     "text": [
      "Training shape: (83, 5)\n",
      "Testing shape (25, 5)\n"
     ]
    }
   ],
   "source": [
    "msk2 = np.random.rand(len(cdf))<0.8\n",
    "train = cdf[msk2]\n",
    "test = cdf[~msk2]\n",
    "print (\"Training shape:\",train.shape)\n",
    "print (\"Testing shape\",test.shape)"
   ]
  },
  {
   "cell_type": "code",
   "execution_count": 14,
   "id": "f1f64a6f",
   "metadata": {},
   "outputs": [
    {
     "name": "stdout",
     "output_type": "stream",
     "text": [
      "Coefficients: [[   0.          -19.43703169  114.39446534 -181.51336369]]\n",
      "Intercept: [2.8046946]\n"
     ]
    }
   ],
   "source": [
    "from sklearn.preprocessing import PolynomialFeatures\n",
    "poly3 = PolynomialFeatures(degree = 3)\n",
    "inp3 = np.asanyarray(train[[\"DepthOfCut\"]])\n",
    "inp3poly = poly3.fit_transform (inp3)\n",
    "out3 = np.asanyarray(train[[\"Ravg\"]])\n",
    "from sklearn.linear_model import LinearRegression\n",
    "reg3 = LinearRegression()\n",
    "reg3.fit(inp3poly,out3)\n",
    "print (\"Coefficients:\", reg3.coef_)\n",
    "print (\"Intercept:\", reg3.intercept_)"
   ]
  },
  {
   "cell_type": "markdown",
   "id": "77fff8a2",
   "metadata": {},
   "source": [
    "##  Polynomial Regression between Depth_Of_Cut and Ravg"
   ]
  },
  {
   "cell_type": "code",
   "execution_count": 15,
   "id": "56a878cf",
   "metadata": {},
   "outputs": [
    {
     "data": {
      "image/png": "[encoded data removed]",
      "text/plain": [
       "<Figure size 432x288 with 1 Axes>"
      ]
     },
     "metadata": {
      "needs_background": "light"
     },
     "output_type": "display_data"
    }
   ],
   "source": [
    "inp3test = np.asanyarray(test[[\"DepthOfCut\"]])\n",
    "inp3testpoly = poly3.fit_transform(inp3test)\n",
    "out3test = np.asanyarray(test[[\"Ravg\"]])\n",
    "out3pred = reg3.predict(inp3testpoly)\n",
    "\n",
    "x2 = np.arange(0,len(test),1)\n",
    "plt.scatter(x2,out3test, color = \"black\")\n",
    "plt.scatter(x2,out3pred,color = \"green\")\n",
    "plt.xlabel(\"DepthOfCut\")\n",
    "plt.ylabel(\"Ravg\")\n",
    "plt.show()"
   ]
  },
  {
   "cell_type": "code",
   "execution_count": 16,
   "id": "ad272b8d",
   "metadata": {},
   "outputs": [
    {
     "name": "stdout",
     "output_type": "stream",
     "text": [
      "MSE: 1.6739076135819966\n",
      "R2 score -0.189396357864823\n"
     ]
    }
   ],
   "source": [
    "from sklearn.metrics import mean_squared_error,r2_score\n",
    "print (\"MSE:\",mean_squared_error(out2test,out2pred))\n",
    "print (\"R2 score\",r2_score(out3test,out3pred))"
   ]
  },
  {
   "cell_type": "markdown",
   "id": "dbe91ae2",
   "metadata": {},
   "source": [
    "### Polynomial Regression between Nose_Radius and Ravg"
   ]
  },
  {
   "cell_type": "code",
   "execution_count": 17,
   "id": "b29b9db3",
   "metadata": {},
   "outputs": [
    {
     "name": "stdout",
     "output_type": "stream",
     "text": [
      "Coefficients: [[ 0.         -9.22080309  6.42433407  6.52258772]]\n",
      "Intercept: [3.62086957]\n"
     ]
    }
   ],
   "source": [
    "from sklearn.preprocessing import PolynomialFeatures\n",
    "poly4 = PolynomialFeatures(degree = 3)\n",
    "inp4 = np.asanyarray(train[[\"NoseRadius\"]])\n",
    "inp4poly = poly4.fit_transform (inp4)\n",
    "out4 = np.asanyarray(train[[\"Ravg\"]])\n",
    "from sklearn.linear_model import LinearRegression\n",
    "reg4 = LinearRegression()\n",
    "reg4.fit(inp4poly,out4)\n",
    "print (\"Coefficients:\", reg4.coef_)\n",
    "print (\"Intercept:\", reg4.intercept_)"
   ]
  },
  {
   "cell_type": "markdown",
   "id": "bee7218d",
   "metadata": {},
   "source": [
    "## Polynomial Regression between Nose_Radius and Ravg"
   ]
  },
  {
   "cell_type": "code",
   "execution_count": 18,
   "id": "5da4fd4c",
   "metadata": {},
   "outputs": [
    {
     "data": {
      "image/png": "[encoded data removed]",
      "text/plain": [
       "<Figure size 432x288 with 1 Axes>"
      ]
     },
     "metadata": {
      "needs_background": "light"
     },
     "output_type": "display_data"
    }
   ],
   "source": [
    "inp4test = np.asanyarray(test[[\"NoseRadius\"]])\n",
    "inp4testpoly = poly4.fit_transform(inp4test)\n",
    "out4test = np.asanyarray(test[[\"Ravg\"]])\n",
    "out4pred = reg4.predict(inp4testpoly)\n",
    "\n",
    "x4 = np.arange(0,len(test),1)\n",
    "plt.scatter(x4,out4test, color = \"blue\")\n",
    "plt.scatter(x4,out4pred,color = \"red\")\n",
    "plt.xlabel(\"NoseRadius\")\n",
    "plt.ylabel(\"Ravg\")\n",
    "plt.show()"
   ]
  },
  {
   "cell_type": "code",
   "execution_count": 19,
   "id": "d45dde98",
   "metadata": {},
   "outputs": [
    {
     "name": "stdout",
     "output_type": "stream",
     "text": [
      "MSE: 0.7219653789422681\n",
      "R2 score 0.7489652355178305\n"
     ]
    }
   ],
   "source": [
    "from sklearn.metrics import mean_squared_error,r2_score\n",
    "print (\"MSE:\",mean_squared_error(out4test,out4pred))\n",
    "print (\"R2 score\",r2_score(out4test,out4pred))"
   ]
  },
  {
   "cell_type": "code",
   "execution_count": null,
   "id": "ac8009cc",
   "metadata": {},
   "outputs": [],
   "source": []
  },
  {
   "cell_type": "code",
   "execution_count": null,
   "id": "c2d38e1a",
   "metadata": {},
   "outputs": [],
   "source": []
  },
  {
   "cell_type": "code",
   "execution_count": null,
   "id": "4764c795",
   "metadata": {},
   "outputs": [],
   "source": []
  },
  {
   "cell_type": "code",
   "execution_count": null,
   "id": "c7bbc742",
   "metadata": {},
   "outputs": [],
   "source": []
  },
  {
   "cell_type": "code",
   "execution_count": null,
   "id": "1548777b",
   "metadata": {},
   "outputs": [],
   "source": []
  }
 ],
 "metadata": {
  "kernelspec": {
   "display_name": "Python 3 (ipykernel)",
   "language": "python",
   "name": "python3"
  },
  "language_info": {
   "codemirror_mode": {
    "name": "ipython",
    "version": 3
   },
   "file_extension": ".py",
   "mimetype": "text/x-python",
   "name": "python",
   "nbconvert_exporter": "python",
   "pygments_lexer": "ipython3",
   "version": "3.9.7"
  }
 },
 "nbformat": 4,
 "nbformat_minor": 5
}
